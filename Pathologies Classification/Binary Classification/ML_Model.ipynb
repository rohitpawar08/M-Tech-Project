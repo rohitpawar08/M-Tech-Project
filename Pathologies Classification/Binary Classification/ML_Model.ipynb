{
 "cells": [
  {
   "cell_type": "code",
   "execution_count": 63,
   "id": "a4d6a60c",
   "metadata": {},
   "outputs": [],
   "source": [
    "import numpy as np\n",
    "import pandas as pd\n",
    "import matplotlib.pyplot as plt\n",
    "import seaborn as sns\n",
    "from sklearn import svm\n",
    "from imblearn.over_sampling import SMOTE\n",
    "from sklearn.metrics import classification_report\n",
    "from sklearn.preprocessing import StandardScaler\n",
    "from sklearn.neighbors import KNeighborsClassifier\n",
    "from sklearn.ensemble import RandomForestClassifier\n",
    "from sklearn.naive_bayes import GaussianNB\n",
    "from sklearn.model_selection import train_test_split\n",
    "from sklearn.metrics import confusion_matrix, accuracy_score"
   ]
  },
  {
   "cell_type": "code",
   "execution_count": 64,
   "id": "d502c4ae",
   "metadata": {},
   "outputs": [],
   "source": [
    "df = pd.read_csv(\"PVA_features.csv\")"
   ]
  },
  {
   "cell_type": "code",
   "execution_count": 65,
   "id": "9ada8036",
   "metadata": {},
   "outputs": [
    {
     "data": {
      "text/html": [
       "<div>\n",
       "<style scoped>\n",
       "    .dataframe tbody tr th:only-of-type {\n",
       "        vertical-align: middle;\n",
       "    }\n",
       "\n",
       "    .dataframe tbody tr th {\n",
       "        vertical-align: top;\n",
       "    }\n",
       "\n",
       "    .dataframe thead th {\n",
       "        text-align: right;\n",
       "    }\n",
       "</style>\n",
       "<table border=\"1\" class=\"dataframe\">\n",
       "  <thead>\n",
       "    <tr style=\"text-align: right;\">\n",
       "      <th></th>\n",
       "      <th>call_timestamp</th>\n",
       "      <th>callref</th>\n",
       "      <th>current_age</th>\n",
       "      <th>sex</th>\n",
       "      <th>years_since_first_symptom</th>\n",
       "      <th>fundamental_freq</th>\n",
       "      <th>fundamental_freq_std</th>\n",
       "      <th>Jitter</th>\n",
       "      <th>RAP</th>\n",
       "      <th>PPQ</th>\n",
       "      <th>SPPQ</th>\n",
       "      <th>Shimmer</th>\n",
       "      <th>RSDVA</th>\n",
       "      <th>APQ</th>\n",
       "      <th>SAPQ</th>\n",
       "      <th>NHR</th>\n",
       "      <th>VTI</th>\n",
       "      <th>SPI</th>\n",
       "      <th>on_treatment_id</th>\n",
       "      <th>Target</th>\n",
       "    </tr>\n",
       "  </thead>\n",
       "  <tbody>\n",
       "    <tr>\n",
       "      <th>0</th>\n",
       "      <td>2014/01/11 02:20:08 UTC +0000</td>\n",
       "      <td>1749611</td>\n",
       "      <td>39</td>\n",
       "      <td>F</td>\n",
       "      <td>32</td>\n",
       "      <td>150.82127</td>\n",
       "      <td>787.773575</td>\n",
       "      <td>3.043524</td>\n",
       "      <td>0.466040</td>\n",
       "      <td>3.389985</td>\n",
       "      <td>44.455531</td>\n",
       "      <td>-0.936114</td>\n",
       "      <td>-91977.681840</td>\n",
       "      <td>83.820481</td>\n",
       "      <td>166.683519</td>\n",
       "      <td>0.004304</td>\n",
       "      <td>0.039660</td>\n",
       "      <td>0.804977</td>\n",
       "      <td>False</td>\n",
       "      <td>1</td>\n",
       "    </tr>\n",
       "    <tr>\n",
       "      <th>1</th>\n",
       "      <td>2014/01/22 04:30:16 UTC +0000</td>\n",
       "      <td>3812301</td>\n",
       "      <td>64</td>\n",
       "      <td>M</td>\n",
       "      <td>8</td>\n",
       "      <td>146.92941</td>\n",
       "      <td>1510.197058</td>\n",
       "      <td>2.542658</td>\n",
       "      <td>0.325218</td>\n",
       "      <td>16.381329</td>\n",
       "      <td>44.205482</td>\n",
       "      <td>-1.017444</td>\n",
       "      <td>4964.843928</td>\n",
       "      <td>101.651603</td>\n",
       "      <td>166.673051</td>\n",
       "      <td>0.004597</td>\n",
       "      <td>0.092386</td>\n",
       "      <td>0.744562</td>\n",
       "      <td>True</td>\n",
       "      <td>1</td>\n",
       "    </tr>\n",
       "    <tr>\n",
       "      <th>2</th>\n",
       "      <td>2014/01/09 19:52:32 UTC +0000</td>\n",
       "      <td>6572221</td>\n",
       "      <td>66</td>\n",
       "      <td>F</td>\n",
       "      <td>13</td>\n",
       "      <td>153.09265</td>\n",
       "      <td>1753.066594</td>\n",
       "      <td>2.410086</td>\n",
       "      <td>0.192787</td>\n",
       "      <td>2.906834</td>\n",
       "      <td>23.104722</td>\n",
       "      <td>-1.082912</td>\n",
       "      <td>-37652.059490</td>\n",
       "      <td>68.621858</td>\n",
       "      <td>166.676942</td>\n",
       "      <td>0.028385</td>\n",
       "      <td>0.083205</td>\n",
       "      <td>0.405923</td>\n",
       "      <td>True</td>\n",
       "      <td>1</td>\n",
       "    </tr>\n",
       "    <tr>\n",
       "      <th>3</th>\n",
       "      <td>2014/01/08 18:40:05 UTC +0000</td>\n",
       "      <td>2388093</td>\n",
       "      <td>49</td>\n",
       "      <td>F</td>\n",
       "      <td>7</td>\n",
       "      <td>153.65819</td>\n",
       "      <td>1690.313366</td>\n",
       "      <td>2.446445</td>\n",
       "      <td>0.304100</td>\n",
       "      <td>2.635581</td>\n",
       "      <td>14.354979</td>\n",
       "      <td>-1.029603</td>\n",
       "      <td>-42727.206080</td>\n",
       "      <td>92.543255</td>\n",
       "      <td>166.679154</td>\n",
       "      <td>0.020588</td>\n",
       "      <td>0.079921</td>\n",
       "      <td>0.333582</td>\n",
       "      <td>True</td>\n",
       "      <td>1</td>\n",
       "    </tr>\n",
       "    <tr>\n",
       "      <th>4</th>\n",
       "      <td>2014/01/20 16:23:35 UTC +0000</td>\n",
       "      <td>2618085</td>\n",
       "      <td>51</td>\n",
       "      <td>F</td>\n",
       "      <td>11</td>\n",
       "      <td>151.61546</td>\n",
       "      <td>1361.879254</td>\n",
       "      <td>2.447181</td>\n",
       "      <td>0.312519</td>\n",
       "      <td>2.468181</td>\n",
       "      <td>12.187294</td>\n",
       "      <td>-0.831550</td>\n",
       "      <td>-39988.536460</td>\n",
       "      <td>77.622830</td>\n",
       "      <td>166.678030</td>\n",
       "      <td>0.005702</td>\n",
       "      <td>0.046155</td>\n",
       "      <td>0.481075</td>\n",
       "      <td>True</td>\n",
       "      <td>1</td>\n",
       "    </tr>\n",
       "    <tr>\n",
       "      <th>...</th>\n",
       "      <td>...</td>\n",
       "      <td>...</td>\n",
       "      <td>...</td>\n",
       "      <td>...</td>\n",
       "      <td>...</td>\n",
       "      <td>...</td>\n",
       "      <td>...</td>\n",
       "      <td>...</td>\n",
       "      <td>...</td>\n",
       "      <td>...</td>\n",
       "      <td>...</td>\n",
       "      <td>...</td>\n",
       "      <td>...</td>\n",
       "      <td>...</td>\n",
       "      <td>...</td>\n",
       "      <td>...</td>\n",
       "      <td>...</td>\n",
       "      <td>...</td>\n",
       "      <td>...</td>\n",
       "      <td>...</td>\n",
       "    </tr>\n",
       "    <tr>\n",
       "      <th>774</th>\n",
       "      <td>2014/03/10 03:49:46 UTC +0000</td>\n",
       "      <td>2034539</td>\n",
       "      <td>65</td>\n",
       "      <td>F</td>\n",
       "      <td>9</td>\n",
       "      <td>178.97552</td>\n",
       "      <td>1007.537544</td>\n",
       "      <td>3.530855</td>\n",
       "      <td>0.355486</td>\n",
       "      <td>2.408186</td>\n",
       "      <td>25.608127</td>\n",
       "      <td>-1.195810</td>\n",
       "      <td>-91349.227280</td>\n",
       "      <td>59.410602</td>\n",
       "      <td>166.686217</td>\n",
       "      <td>0.009778</td>\n",
       "      <td>0.088910</td>\n",
       "      <td>0.595077</td>\n",
       "      <td>True</td>\n",
       "      <td>1</td>\n",
       "    </tr>\n",
       "    <tr>\n",
       "      <th>775</th>\n",
       "      <td>2014/03/10 05:06:02 UTC +0000</td>\n",
       "      <td>4078150</td>\n",
       "      <td>55</td>\n",
       "      <td>F</td>\n",
       "      <td>0</td>\n",
       "      <td>149.90842</td>\n",
       "      <td>1819.308710</td>\n",
       "      <td>2.707083</td>\n",
       "      <td>0.318716</td>\n",
       "      <td>7.421225</td>\n",
       "      <td>17.618326</td>\n",
       "      <td>-0.846734</td>\n",
       "      <td>-121014.677700</td>\n",
       "      <td>65.206269</td>\n",
       "      <td>166.671795</td>\n",
       "      <td>0.007501</td>\n",
       "      <td>0.116289</td>\n",
       "      <td>0.424437</td>\n",
       "      <td>False</td>\n",
       "      <td>0</td>\n",
       "    </tr>\n",
       "    <tr>\n",
       "      <th>776</th>\n",
       "      <td>2014/03/10 12:37:55 UTC +0000</td>\n",
       "      <td>9778657</td>\n",
       "      <td>50</td>\n",
       "      <td>F</td>\n",
       "      <td>2</td>\n",
       "      <td>149.53152</td>\n",
       "      <td>1152.307668</td>\n",
       "      <td>3.629170</td>\n",
       "      <td>0.313017</td>\n",
       "      <td>1.345998</td>\n",
       "      <td>31.300191</td>\n",
       "      <td>-1.429273</td>\n",
       "      <td>538316.195000</td>\n",
       "      <td>79.541005</td>\n",
       "      <td>166.669880</td>\n",
       "      <td>0.008908</td>\n",
       "      <td>0.175997</td>\n",
       "      <td>0.386682</td>\n",
       "      <td>True</td>\n",
       "      <td>1</td>\n",
       "    </tr>\n",
       "    <tr>\n",
       "      <th>777</th>\n",
       "      <td>2014/03/10 20:37:22 UTC +0000</td>\n",
       "      <td>4452027</td>\n",
       "      <td>62</td>\n",
       "      <td>M</td>\n",
       "      <td>0</td>\n",
       "      <td>148.53487</td>\n",
       "      <td>823.692981</td>\n",
       "      <td>2.903446</td>\n",
       "      <td>0.446732</td>\n",
       "      <td>2.306650</td>\n",
       "      <td>15.063619</td>\n",
       "      <td>-1.237079</td>\n",
       "      <td>11171.028120</td>\n",
       "      <td>71.782639</td>\n",
       "      <td>166.680681</td>\n",
       "      <td>0.004207</td>\n",
       "      <td>0.069710</td>\n",
       "      <td>0.603865</td>\n",
       "      <td>True</td>\n",
       "      <td>0</td>\n",
       "    </tr>\n",
       "    <tr>\n",
       "      <th>778</th>\n",
       "      <td>2014/03/11 23:53:04 UTC +0000</td>\n",
       "      <td>5660606</td>\n",
       "      <td>62</td>\n",
       "      <td>M</td>\n",
       "      <td>6</td>\n",
       "      <td>150.07857</td>\n",
       "      <td>860.883144</td>\n",
       "      <td>2.550197</td>\n",
       "      <td>0.351522</td>\n",
       "      <td>2.444046</td>\n",
       "      <td>24.440656</td>\n",
       "      <td>-1.234916</td>\n",
       "      <td>-49341.290460</td>\n",
       "      <td>85.595079</td>\n",
       "      <td>166.679850</td>\n",
       "      <td>0.001979</td>\n",
       "      <td>0.036744</td>\n",
       "      <td>0.790494</td>\n",
       "      <td>False</td>\n",
       "      <td>1</td>\n",
       "    </tr>\n",
       "  </tbody>\n",
       "</table>\n",
       "<p>779 rows × 20 columns</p>\n",
       "</div>"
      ],
      "text/plain": [
       "                    call_timestamp  callref  current_age sex  \\\n",
       "0    2014/01/11 02:20:08 UTC +0000  1749611           39   F   \n",
       "1    2014/01/22 04:30:16 UTC +0000  3812301           64   M   \n",
       "2    2014/01/09 19:52:32 UTC +0000  6572221           66   F   \n",
       "3    2014/01/08 18:40:05 UTC +0000  2388093           49   F   \n",
       "4    2014/01/20 16:23:35 UTC +0000  2618085           51   F   \n",
       "..                             ...      ...          ...  ..   \n",
       "774  2014/03/10 03:49:46 UTC +0000  2034539           65   F   \n",
       "775  2014/03/10 05:06:02 UTC +0000  4078150           55   F   \n",
       "776  2014/03/10 12:37:55 UTC +0000  9778657           50   F   \n",
       "777  2014/03/10 20:37:22 UTC +0000  4452027           62   M   \n",
       "778  2014/03/11 23:53:04 UTC +0000  5660606           62   M   \n",
       "\n",
       "     years_since_first_symptom  fundamental_freq  fundamental_freq_std  \\\n",
       "0                           32         150.82127            787.773575   \n",
       "1                            8         146.92941           1510.197058   \n",
       "2                           13         153.09265           1753.066594   \n",
       "3                            7         153.65819           1690.313366   \n",
       "4                           11         151.61546           1361.879254   \n",
       "..                         ...               ...                   ...   \n",
       "774                          9         178.97552           1007.537544   \n",
       "775                          0         149.90842           1819.308710   \n",
       "776                          2         149.53152           1152.307668   \n",
       "777                          0         148.53487            823.692981   \n",
       "778                          6         150.07857            860.883144   \n",
       "\n",
       "       Jitter       RAP        PPQ       SPPQ   Shimmer          RSDVA  \\\n",
       "0    3.043524  0.466040   3.389985  44.455531 -0.936114  -91977.681840   \n",
       "1    2.542658  0.325218  16.381329  44.205482 -1.017444    4964.843928   \n",
       "2    2.410086  0.192787   2.906834  23.104722 -1.082912  -37652.059490   \n",
       "3    2.446445  0.304100   2.635581  14.354979 -1.029603  -42727.206080   \n",
       "4    2.447181  0.312519   2.468181  12.187294 -0.831550  -39988.536460   \n",
       "..        ...       ...        ...        ...       ...            ...   \n",
       "774  3.530855  0.355486   2.408186  25.608127 -1.195810  -91349.227280   \n",
       "775  2.707083  0.318716   7.421225  17.618326 -0.846734 -121014.677700   \n",
       "776  3.629170  0.313017   1.345998  31.300191 -1.429273  538316.195000   \n",
       "777  2.903446  0.446732   2.306650  15.063619 -1.237079   11171.028120   \n",
       "778  2.550197  0.351522   2.444046  24.440656 -1.234916  -49341.290460   \n",
       "\n",
       "            APQ        SAPQ       NHR       VTI       SPI  on_treatment_id  \\\n",
       "0     83.820481  166.683519  0.004304  0.039660  0.804977            False   \n",
       "1    101.651603  166.673051  0.004597  0.092386  0.744562             True   \n",
       "2     68.621858  166.676942  0.028385  0.083205  0.405923             True   \n",
       "3     92.543255  166.679154  0.020588  0.079921  0.333582             True   \n",
       "4     77.622830  166.678030  0.005702  0.046155  0.481075             True   \n",
       "..          ...         ...       ...       ...       ...              ...   \n",
       "774   59.410602  166.686217  0.009778  0.088910  0.595077             True   \n",
       "775   65.206269  166.671795  0.007501  0.116289  0.424437            False   \n",
       "776   79.541005  166.669880  0.008908  0.175997  0.386682             True   \n",
       "777   71.782639  166.680681  0.004207  0.069710  0.603865             True   \n",
       "778   85.595079  166.679850  0.001979  0.036744  0.790494            False   \n",
       "\n",
       "     Target  \n",
       "0         1  \n",
       "1         1  \n",
       "2         1  \n",
       "3         1  \n",
       "4         1  \n",
       "..      ...  \n",
       "774       1  \n",
       "775       0  \n",
       "776       1  \n",
       "777       0  \n",
       "778       1  \n",
       "\n",
       "[779 rows x 20 columns]"
      ]
     },
     "execution_count": 65,
     "metadata": {},
     "output_type": "execute_result"
    }
   ],
   "source": [
    "df"
   ]
  },
  {
   "cell_type": "code",
   "execution_count": 67,
   "id": "f9f2b4ff",
   "metadata": {},
   "outputs": [
    {
     "data": {
      "text/plain": [
       "F    389\n",
       "M    383\n",
       "Name: sex, dtype: int64"
      ]
     },
     "execution_count": 67,
     "metadata": {},
     "output_type": "execute_result"
    },
    {
     "data": {
      "image/png": "[encoded data removed]",
      "text/plain": [
       "<Figure size 640x480 with 1 Axes>"
      ]
     },
     "metadata": {},
     "output_type": "display_data"
    }
   ],
   "source": [
    "df[\"sex\"].value_counts().plot(kind=\"bar\")\n",
    "df[\"sex\"].value_counts()"
   ]
  },
  {
   "cell_type": "code",
   "execution_count": 13,
   "id": "e32a6dd7",
   "metadata": {},
   "outputs": [],
   "source": [
    "df[\"sex\"] = df[\"sex\"].replace(\"F\",0)\n",
    "df[\"sex\"] = df[\"sex\"].replace(\"M\",1)"
   ]
  },
  {
   "cell_type": "code",
   "execution_count": 14,
   "id": "3d91bb63",
   "metadata": {},
   "outputs": [
    {
     "data": {
      "text/html": [
       "<div>\n",
       "<style scoped>\n",
       "    .dataframe tbody tr th:only-of-type {\n",
       "        vertical-align: middle;\n",
       "    }\n",
       "\n",
       "    .dataframe tbody tr th {\n",
       "        vertical-align: top;\n",
       "    }\n",
       "\n",
       "    .dataframe thead th {\n",
       "        text-align: right;\n",
       "    }\n",
       "</style>\n",
       "<table border=\"1\" class=\"dataframe\">\n",
       "  <thead>\n",
       "    <tr style=\"text-align: right;\">\n",
       "      <th></th>\n",
       "      <th>call_timestamp</th>\n",
       "      <th>callref</th>\n",
       "      <th>current_age</th>\n",
       "      <th>sex</th>\n",
       "      <th>years_since_first_symptom</th>\n",
       "      <th>fundamental_freq</th>\n",
       "      <th>fundamental_freq_std</th>\n",
       "      <th>Jitter</th>\n",
       "      <th>RAP</th>\n",
       "      <th>PPQ</th>\n",
       "      <th>SPPQ</th>\n",
       "      <th>Shimmer</th>\n",
       "      <th>RSDVA</th>\n",
       "      <th>APQ</th>\n",
       "      <th>SAPQ</th>\n",
       "      <th>NHR</th>\n",
       "      <th>VTI</th>\n",
       "      <th>SPI</th>\n",
       "      <th>on_treatment_id</th>\n",
       "      <th>Target</th>\n",
       "    </tr>\n",
       "  </thead>\n",
       "  <tbody>\n",
       "    <tr>\n",
       "      <th>0</th>\n",
       "      <td>2014/01/11 02:20:08 UTC +0000</td>\n",
       "      <td>1749611</td>\n",
       "      <td>39</td>\n",
       "      <td>0.0</td>\n",
       "      <td>32</td>\n",
       "      <td>150.82127</td>\n",
       "      <td>787.773575</td>\n",
       "      <td>3.043524</td>\n",
       "      <td>0.466040</td>\n",
       "      <td>3.389985</td>\n",
       "      <td>44.455531</td>\n",
       "      <td>-0.936114</td>\n",
       "      <td>-91977.681840</td>\n",
       "      <td>83.820481</td>\n",
       "      <td>166.683519</td>\n",
       "      <td>0.004304</td>\n",
       "      <td>0.039660</td>\n",
       "      <td>0.804977</td>\n",
       "      <td>False</td>\n",
       "      <td>1</td>\n",
       "    </tr>\n",
       "    <tr>\n",
       "      <th>1</th>\n",
       "      <td>2014/01/22 04:30:16 UTC +0000</td>\n",
       "      <td>3812301</td>\n",
       "      <td>64</td>\n",
       "      <td>1.0</td>\n",
       "      <td>8</td>\n",
       "      <td>146.92941</td>\n",
       "      <td>1510.197058</td>\n",
       "      <td>2.542658</td>\n",
       "      <td>0.325218</td>\n",
       "      <td>16.381329</td>\n",
       "      <td>44.205482</td>\n",
       "      <td>-1.017444</td>\n",
       "      <td>4964.843928</td>\n",
       "      <td>101.651603</td>\n",
       "      <td>166.673051</td>\n",
       "      <td>0.004597</td>\n",
       "      <td>0.092386</td>\n",
       "      <td>0.744562</td>\n",
       "      <td>True</td>\n",
       "      <td>1</td>\n",
       "    </tr>\n",
       "    <tr>\n",
       "      <th>2</th>\n",
       "      <td>2014/01/09 19:52:32 UTC +0000</td>\n",
       "      <td>6572221</td>\n",
       "      <td>66</td>\n",
       "      <td>0.0</td>\n",
       "      <td>13</td>\n",
       "      <td>153.09265</td>\n",
       "      <td>1753.066594</td>\n",
       "      <td>2.410086</td>\n",
       "      <td>0.192787</td>\n",
       "      <td>2.906834</td>\n",
       "      <td>23.104722</td>\n",
       "      <td>-1.082912</td>\n",
       "      <td>-37652.059490</td>\n",
       "      <td>68.621858</td>\n",
       "      <td>166.676942</td>\n",
       "      <td>0.028385</td>\n",
       "      <td>0.083205</td>\n",
       "      <td>0.405923</td>\n",
       "      <td>True</td>\n",
       "      <td>1</td>\n",
       "    </tr>\n",
       "    <tr>\n",
       "      <th>3</th>\n",
       "      <td>2014/01/08 18:40:05 UTC +0000</td>\n",
       "      <td>2388093</td>\n",
       "      <td>49</td>\n",
       "      <td>0.0</td>\n",
       "      <td>7</td>\n",
       "      <td>153.65819</td>\n",
       "      <td>1690.313366</td>\n",
       "      <td>2.446445</td>\n",
       "      <td>0.304100</td>\n",
       "      <td>2.635581</td>\n",
       "      <td>14.354979</td>\n",
       "      <td>-1.029603</td>\n",
       "      <td>-42727.206080</td>\n",
       "      <td>92.543255</td>\n",
       "      <td>166.679154</td>\n",
       "      <td>0.020588</td>\n",
       "      <td>0.079921</td>\n",
       "      <td>0.333582</td>\n",
       "      <td>True</td>\n",
       "      <td>1</td>\n",
       "    </tr>\n",
       "    <tr>\n",
       "      <th>4</th>\n",
       "      <td>2014/01/20 16:23:35 UTC +0000</td>\n",
       "      <td>2618085</td>\n",
       "      <td>51</td>\n",
       "      <td>0.0</td>\n",
       "      <td>11</td>\n",
       "      <td>151.61546</td>\n",
       "      <td>1361.879254</td>\n",
       "      <td>2.447181</td>\n",
       "      <td>0.312519</td>\n",
       "      <td>2.468181</td>\n",
       "      <td>12.187294</td>\n",
       "      <td>-0.831550</td>\n",
       "      <td>-39988.536460</td>\n",
       "      <td>77.622830</td>\n",
       "      <td>166.678030</td>\n",
       "      <td>0.005702</td>\n",
       "      <td>0.046155</td>\n",
       "      <td>0.481075</td>\n",
       "      <td>True</td>\n",
       "      <td>1</td>\n",
       "    </tr>\n",
       "    <tr>\n",
       "      <th>...</th>\n",
       "      <td>...</td>\n",
       "      <td>...</td>\n",
       "      <td>...</td>\n",
       "      <td>...</td>\n",
       "      <td>...</td>\n",
       "      <td>...</td>\n",
       "      <td>...</td>\n",
       "      <td>...</td>\n",
       "      <td>...</td>\n",
       "      <td>...</td>\n",
       "      <td>...</td>\n",
       "      <td>...</td>\n",
       "      <td>...</td>\n",
       "      <td>...</td>\n",
       "      <td>...</td>\n",
       "      <td>...</td>\n",
       "      <td>...</td>\n",
       "      <td>...</td>\n",
       "      <td>...</td>\n",
       "      <td>...</td>\n",
       "    </tr>\n",
       "    <tr>\n",
       "      <th>774</th>\n",
       "      <td>2014/03/10 03:49:46 UTC +0000</td>\n",
       "      <td>2034539</td>\n",
       "      <td>65</td>\n",
       "      <td>0.0</td>\n",
       "      <td>9</td>\n",
       "      <td>178.97552</td>\n",
       "      <td>1007.537544</td>\n",
       "      <td>3.530855</td>\n",
       "      <td>0.355486</td>\n",
       "      <td>2.408186</td>\n",
       "      <td>25.608127</td>\n",
       "      <td>-1.195810</td>\n",
       "      <td>-91349.227280</td>\n",
       "      <td>59.410602</td>\n",
       "      <td>166.686217</td>\n",
       "      <td>0.009778</td>\n",
       "      <td>0.088910</td>\n",
       "      <td>0.595077</td>\n",
       "      <td>True</td>\n",
       "      <td>1</td>\n",
       "    </tr>\n",
       "    <tr>\n",
       "      <th>775</th>\n",
       "      <td>2014/03/10 05:06:02 UTC +0000</td>\n",
       "      <td>4078150</td>\n",
       "      <td>55</td>\n",
       "      <td>0.0</td>\n",
       "      <td>0</td>\n",
       "      <td>149.90842</td>\n",
       "      <td>1819.308710</td>\n",
       "      <td>2.707083</td>\n",
       "      <td>0.318716</td>\n",
       "      <td>7.421225</td>\n",
       "      <td>17.618326</td>\n",
       "      <td>-0.846734</td>\n",
       "      <td>-121014.677700</td>\n",
       "      <td>65.206269</td>\n",
       "      <td>166.671795</td>\n",
       "      <td>0.007501</td>\n",
       "      <td>0.116289</td>\n",
       "      <td>0.424437</td>\n",
       "      <td>False</td>\n",
       "      <td>0</td>\n",
       "    </tr>\n",
       "    <tr>\n",
       "      <th>776</th>\n",
       "      <td>2014/03/10 12:37:55 UTC +0000</td>\n",
       "      <td>9778657</td>\n",
       "      <td>50</td>\n",
       "      <td>0.0</td>\n",
       "      <td>2</td>\n",
       "      <td>149.53152</td>\n",
       "      <td>1152.307668</td>\n",
       "      <td>3.629170</td>\n",
       "      <td>0.313017</td>\n",
       "      <td>1.345998</td>\n",
       "      <td>31.300191</td>\n",
       "      <td>-1.429273</td>\n",
       "      <td>538316.195000</td>\n",
       "      <td>79.541005</td>\n",
       "      <td>166.669880</td>\n",
       "      <td>0.008908</td>\n",
       "      <td>0.175997</td>\n",
       "      <td>0.386682</td>\n",
       "      <td>True</td>\n",
       "      <td>1</td>\n",
       "    </tr>\n",
       "    <tr>\n",
       "      <th>777</th>\n",
       "      <td>2014/03/10 20:37:22 UTC +0000</td>\n",
       "      <td>4452027</td>\n",
       "      <td>62</td>\n",
       "      <td>1.0</td>\n",
       "      <td>0</td>\n",
       "      <td>148.53487</td>\n",
       "      <td>823.692981</td>\n",
       "      <td>2.903446</td>\n",
       "      <td>0.446732</td>\n",
       "      <td>2.306650</td>\n",
       "      <td>15.063619</td>\n",
       "      <td>-1.237079</td>\n",
       "      <td>11171.028120</td>\n",
       "      <td>71.782639</td>\n",
       "      <td>166.680681</td>\n",
       "      <td>0.004207</td>\n",
       "      <td>0.069710</td>\n",
       "      <td>0.603865</td>\n",
       "      <td>True</td>\n",
       "      <td>0</td>\n",
       "    </tr>\n",
       "    <tr>\n",
       "      <th>778</th>\n",
       "      <td>2014/03/11 23:53:04 UTC +0000</td>\n",
       "      <td>5660606</td>\n",
       "      <td>62</td>\n",
       "      <td>1.0</td>\n",
       "      <td>6</td>\n",
       "      <td>150.07857</td>\n",
       "      <td>860.883144</td>\n",
       "      <td>2.550197</td>\n",
       "      <td>0.351522</td>\n",
       "      <td>2.444046</td>\n",
       "      <td>24.440656</td>\n",
       "      <td>-1.234916</td>\n",
       "      <td>-49341.290460</td>\n",
       "      <td>85.595079</td>\n",
       "      <td>166.679850</td>\n",
       "      <td>0.001979</td>\n",
       "      <td>0.036744</td>\n",
       "      <td>0.790494</td>\n",
       "      <td>False</td>\n",
       "      <td>1</td>\n",
       "    </tr>\n",
       "  </tbody>\n",
       "</table>\n",
       "<p>779 rows × 20 columns</p>\n",
       "</div>"
      ],
      "text/plain": [
       "                    call_timestamp  callref  current_age  sex  \\\n",
       "0    2014/01/11 02:20:08 UTC +0000  1749611           39  0.0   \n",
       "1    2014/01/22 04:30:16 UTC +0000  3812301           64  1.0   \n",
       "2    2014/01/09 19:52:32 UTC +0000  6572221           66  0.0   \n",
       "3    2014/01/08 18:40:05 UTC +0000  2388093           49  0.0   \n",
       "4    2014/01/20 16:23:35 UTC +0000  2618085           51  0.0   \n",
       "..                             ...      ...          ...  ...   \n",
       "774  2014/03/10 03:49:46 UTC +0000  2034539           65  0.0   \n",
       "775  2014/03/10 05:06:02 UTC +0000  4078150           55  0.0   \n",
       "776  2014/03/10 12:37:55 UTC +0000  9778657           50  0.0   \n",
       "777  2014/03/10 20:37:22 UTC +0000  4452027           62  1.0   \n",
       "778  2014/03/11 23:53:04 UTC +0000  5660606           62  1.0   \n",
       "\n",
       "     years_since_first_symptom  fundamental_freq  fundamental_freq_std  \\\n",
       "0                           32         150.82127            787.773575   \n",
       "1                            8         146.92941           1510.197058   \n",
       "2                           13         153.09265           1753.066594   \n",
       "3                            7         153.65819           1690.313366   \n",
       "4                           11         151.61546           1361.879254   \n",
       "..                         ...               ...                   ...   \n",
       "774                          9         178.97552           1007.537544   \n",
       "775                          0         149.90842           1819.308710   \n",
       "776                          2         149.53152           1152.307668   \n",
       "777                          0         148.53487            823.692981   \n",
       "778                          6         150.07857            860.883144   \n",
       "\n",
       "       Jitter       RAP        PPQ       SPPQ   Shimmer          RSDVA  \\\n",
       "0    3.043524  0.466040   3.389985  44.455531 -0.936114  -91977.681840   \n",
       "1    2.542658  0.325218  16.381329  44.205482 -1.017444    4964.843928   \n",
       "2    2.410086  0.192787   2.906834  23.104722 -1.082912  -37652.059490   \n",
       "3    2.446445  0.304100   2.635581  14.354979 -1.029603  -42727.206080   \n",
       "4    2.447181  0.312519   2.468181  12.187294 -0.831550  -39988.536460   \n",
       "..        ...       ...        ...        ...       ...            ...   \n",
       "774  3.530855  0.355486   2.408186  25.608127 -1.195810  -91349.227280   \n",
       "775  2.707083  0.318716   7.421225  17.618326 -0.846734 -121014.677700   \n",
       "776  3.629170  0.313017   1.345998  31.300191 -1.429273  538316.195000   \n",
       "777  2.903446  0.446732   2.306650  15.063619 -1.237079   11171.028120   \n",
       "778  2.550197  0.351522   2.444046  24.440656 -1.234916  -49341.290460   \n",
       "\n",
       "            APQ        SAPQ       NHR       VTI       SPI  on_treatment_id  \\\n",
       "0     83.820481  166.683519  0.004304  0.039660  0.804977            False   \n",
       "1    101.651603  166.673051  0.004597  0.092386  0.744562             True   \n",
       "2     68.621858  166.676942  0.028385  0.083205  0.405923             True   \n",
       "3     92.543255  166.679154  0.020588  0.079921  0.333582             True   \n",
       "4     77.622830  166.678030  0.005702  0.046155  0.481075             True   \n",
       "..          ...         ...       ...       ...       ...              ...   \n",
       "774   59.410602  166.686217  0.009778  0.088910  0.595077             True   \n",
       "775   65.206269  166.671795  0.007501  0.116289  0.424437            False   \n",
       "776   79.541005  166.669880  0.008908  0.175997  0.386682             True   \n",
       "777   71.782639  166.680681  0.004207  0.069710  0.603865             True   \n",
       "778   85.595079  166.679850  0.001979  0.036744  0.790494            False   \n",
       "\n",
       "     Target  \n",
       "0         1  \n",
       "1         1  \n",
       "2         1  \n",
       "3         1  \n",
       "4         1  \n",
       "..      ...  \n",
       "774       1  \n",
       "775       0  \n",
       "776       1  \n",
       "777       0  \n",
       "778       1  \n",
       "\n",
       "[779 rows x 20 columns]"
      ]
     },
     "execution_count": 14,
     "metadata": {},
     "output_type": "execute_result"
    }
   ],
   "source": [
    "df"
   ]
  },
  {
   "cell_type": "code",
   "execution_count": 71,
   "id": "b08079e0",
   "metadata": {},
   "outputs": [
    {
     "data": {
      "text/plain": [
       "1    660\n",
       "0    119\n",
       "Name: Target, dtype: int64"
      ]
     },
     "execution_count": 71,
     "metadata": {},
     "output_type": "execute_result"
    },
    {
     "data": {
      "image/png": "[encoded data removed]",
      "text/plain": [
       "<Figure size 640x480 with 1 Axes>"
      ]
     },
     "metadata": {},
     "output_type": "display_data"
    }
   ],
   "source": [
    "df[\"Target\"].value_counts().plot(kind=\"bar\")\n",
    "df[\"Target\"].value_counts()"
   ]
  },
  {
   "cell_type": "code",
   "execution_count": 16,
   "id": "d08163d8",
   "metadata": {},
   "outputs": [],
   "source": [
    "Y = df[\"Target\"]\n",
    "X = df.drop([\"call_timestamp\",\"callref\",\"years_since_first_symptom\",\"current_age\",\"sex\",\"Target\",\"on_treatment_id\"],axis=1)"
   ]
  },
  {
   "cell_type": "code",
   "execution_count": 17,
   "id": "a123da57",
   "metadata": {},
   "outputs": [
    {
     "data": {
      "text/html": [
       "<div>\n",
       "<style scoped>\n",
       "    .dataframe tbody tr th:only-of-type {\n",
       "        vertical-align: middle;\n",
       "    }\n",
       "\n",
       "    .dataframe tbody tr th {\n",
       "        vertical-align: top;\n",
       "    }\n",
       "\n",
       "    .dataframe thead th {\n",
       "        text-align: right;\n",
       "    }\n",
       "</style>\n",
       "<table border=\"1\" class=\"dataframe\">\n",
       "  <thead>\n",
       "    <tr style=\"text-align: right;\">\n",
       "      <th></th>\n",
       "      <th>fundamental_freq</th>\n",
       "      <th>fundamental_freq_std</th>\n",
       "      <th>Jitter</th>\n",
       "      <th>RAP</th>\n",
       "      <th>PPQ</th>\n",
       "      <th>SPPQ</th>\n",
       "      <th>Shimmer</th>\n",
       "      <th>RSDVA</th>\n",
       "      <th>APQ</th>\n",
       "      <th>SAPQ</th>\n",
       "      <th>NHR</th>\n",
       "      <th>VTI</th>\n",
       "      <th>SPI</th>\n",
       "    </tr>\n",
       "  </thead>\n",
       "  <tbody>\n",
       "    <tr>\n",
       "      <th>0</th>\n",
       "      <td>150.82127</td>\n",
       "      <td>787.773575</td>\n",
       "      <td>3.043524</td>\n",
       "      <td>0.466040</td>\n",
       "      <td>3.389985</td>\n",
       "      <td>44.455531</td>\n",
       "      <td>-0.936114</td>\n",
       "      <td>-91977.681840</td>\n",
       "      <td>83.820481</td>\n",
       "      <td>166.683519</td>\n",
       "      <td>0.004304</td>\n",
       "      <td>0.039660</td>\n",
       "      <td>0.804977</td>\n",
       "    </tr>\n",
       "    <tr>\n",
       "      <th>1</th>\n",
       "      <td>146.92941</td>\n",
       "      <td>1510.197058</td>\n",
       "      <td>2.542658</td>\n",
       "      <td>0.325218</td>\n",
       "      <td>16.381329</td>\n",
       "      <td>44.205482</td>\n",
       "      <td>-1.017444</td>\n",
       "      <td>4964.843928</td>\n",
       "      <td>101.651603</td>\n",
       "      <td>166.673051</td>\n",
       "      <td>0.004597</td>\n",
       "      <td>0.092386</td>\n",
       "      <td>0.744562</td>\n",
       "    </tr>\n",
       "    <tr>\n",
       "      <th>2</th>\n",
       "      <td>153.09265</td>\n",
       "      <td>1753.066594</td>\n",
       "      <td>2.410086</td>\n",
       "      <td>0.192787</td>\n",
       "      <td>2.906834</td>\n",
       "      <td>23.104722</td>\n",
       "      <td>-1.082912</td>\n",
       "      <td>-37652.059490</td>\n",
       "      <td>68.621858</td>\n",
       "      <td>166.676942</td>\n",
       "      <td>0.028385</td>\n",
       "      <td>0.083205</td>\n",
       "      <td>0.405923</td>\n",
       "    </tr>\n",
       "    <tr>\n",
       "      <th>3</th>\n",
       "      <td>153.65819</td>\n",
       "      <td>1690.313366</td>\n",
       "      <td>2.446445</td>\n",
       "      <td>0.304100</td>\n",
       "      <td>2.635581</td>\n",
       "      <td>14.354979</td>\n",
       "      <td>-1.029603</td>\n",
       "      <td>-42727.206080</td>\n",
       "      <td>92.543255</td>\n",
       "      <td>166.679154</td>\n",
       "      <td>0.020588</td>\n",
       "      <td>0.079921</td>\n",
       "      <td>0.333582</td>\n",
       "    </tr>\n",
       "    <tr>\n",
       "      <th>4</th>\n",
       "      <td>151.61546</td>\n",
       "      <td>1361.879254</td>\n",
       "      <td>2.447181</td>\n",
       "      <td>0.312519</td>\n",
       "      <td>2.468181</td>\n",
       "      <td>12.187294</td>\n",
       "      <td>-0.831550</td>\n",
       "      <td>-39988.536460</td>\n",
       "      <td>77.622830</td>\n",
       "      <td>166.678030</td>\n",
       "      <td>0.005702</td>\n",
       "      <td>0.046155</td>\n",
       "      <td>0.481075</td>\n",
       "    </tr>\n",
       "    <tr>\n",
       "      <th>...</th>\n",
       "      <td>...</td>\n",
       "      <td>...</td>\n",
       "      <td>...</td>\n",
       "      <td>...</td>\n",
       "      <td>...</td>\n",
       "      <td>...</td>\n",
       "      <td>...</td>\n",
       "      <td>...</td>\n",
       "      <td>...</td>\n",
       "      <td>...</td>\n",
       "      <td>...</td>\n",
       "      <td>...</td>\n",
       "      <td>...</td>\n",
       "    </tr>\n",
       "    <tr>\n",
       "      <th>774</th>\n",
       "      <td>178.97552</td>\n",
       "      <td>1007.537544</td>\n",
       "      <td>3.530855</td>\n",
       "      <td>0.355486</td>\n",
       "      <td>2.408186</td>\n",
       "      <td>25.608127</td>\n",
       "      <td>-1.195810</td>\n",
       "      <td>-91349.227280</td>\n",
       "      <td>59.410602</td>\n",
       "      <td>166.686217</td>\n",
       "      <td>0.009778</td>\n",
       "      <td>0.088910</td>\n",
       "      <td>0.595077</td>\n",
       "    </tr>\n",
       "    <tr>\n",
       "      <th>775</th>\n",
       "      <td>149.90842</td>\n",
       "      <td>1819.308710</td>\n",
       "      <td>2.707083</td>\n",
       "      <td>0.318716</td>\n",
       "      <td>7.421225</td>\n",
       "      <td>17.618326</td>\n",
       "      <td>-0.846734</td>\n",
       "      <td>-121014.677700</td>\n",
       "      <td>65.206269</td>\n",
       "      <td>166.671795</td>\n",
       "      <td>0.007501</td>\n",
       "      <td>0.116289</td>\n",
       "      <td>0.424437</td>\n",
       "    </tr>\n",
       "    <tr>\n",
       "      <th>776</th>\n",
       "      <td>149.53152</td>\n",
       "      <td>1152.307668</td>\n",
       "      <td>3.629170</td>\n",
       "      <td>0.313017</td>\n",
       "      <td>1.345998</td>\n",
       "      <td>31.300191</td>\n",
       "      <td>-1.429273</td>\n",
       "      <td>538316.195000</td>\n",
       "      <td>79.541005</td>\n",
       "      <td>166.669880</td>\n",
       "      <td>0.008908</td>\n",
       "      <td>0.175997</td>\n",
       "      <td>0.386682</td>\n",
       "    </tr>\n",
       "    <tr>\n",
       "      <th>777</th>\n",
       "      <td>148.53487</td>\n",
       "      <td>823.692981</td>\n",
       "      <td>2.903446</td>\n",
       "      <td>0.446732</td>\n",
       "      <td>2.306650</td>\n",
       "      <td>15.063619</td>\n",
       "      <td>-1.237079</td>\n",
       "      <td>11171.028120</td>\n",
       "      <td>71.782639</td>\n",
       "      <td>166.680681</td>\n",
       "      <td>0.004207</td>\n",
       "      <td>0.069710</td>\n",
       "      <td>0.603865</td>\n",
       "    </tr>\n",
       "    <tr>\n",
       "      <th>778</th>\n",
       "      <td>150.07857</td>\n",
       "      <td>860.883144</td>\n",
       "      <td>2.550197</td>\n",
       "      <td>0.351522</td>\n",
       "      <td>2.444046</td>\n",
       "      <td>24.440656</td>\n",
       "      <td>-1.234916</td>\n",
       "      <td>-49341.290460</td>\n",
       "      <td>85.595079</td>\n",
       "      <td>166.679850</td>\n",
       "      <td>0.001979</td>\n",
       "      <td>0.036744</td>\n",
       "      <td>0.790494</td>\n",
       "    </tr>\n",
       "  </tbody>\n",
       "</table>\n",
       "<p>779 rows × 13 columns</p>\n",
       "</div>"
      ],
      "text/plain": [
       "     fundamental_freq  fundamental_freq_std    Jitter       RAP        PPQ  \\\n",
       "0           150.82127            787.773575  3.043524  0.466040   3.389985   \n",
       "1           146.92941           1510.197058  2.542658  0.325218  16.381329   \n",
       "2           153.09265           1753.066594  2.410086  0.192787   2.906834   \n",
       "3           153.65819           1690.313366  2.446445  0.304100   2.635581   \n",
       "4           151.61546           1361.879254  2.447181  0.312519   2.468181   \n",
       "..                ...                   ...       ...       ...        ...   \n",
       "774         178.97552           1007.537544  3.530855  0.355486   2.408186   \n",
       "775         149.90842           1819.308710  2.707083  0.318716   7.421225   \n",
       "776         149.53152           1152.307668  3.629170  0.313017   1.345998   \n",
       "777         148.53487            823.692981  2.903446  0.446732   2.306650   \n",
       "778         150.07857            860.883144  2.550197  0.351522   2.444046   \n",
       "\n",
       "          SPPQ   Shimmer          RSDVA         APQ        SAPQ       NHR  \\\n",
       "0    44.455531 -0.936114  -91977.681840   83.820481  166.683519  0.004304   \n",
       "1    44.205482 -1.017444    4964.843928  101.651603  166.673051  0.004597   \n",
       "2    23.104722 -1.082912  -37652.059490   68.621858  166.676942  0.028385   \n",
       "3    14.354979 -1.029603  -42727.206080   92.543255  166.679154  0.020588   \n",
       "4    12.187294 -0.831550  -39988.536460   77.622830  166.678030  0.005702   \n",
       "..         ...       ...            ...         ...         ...       ...   \n",
       "774  25.608127 -1.195810  -91349.227280   59.410602  166.686217  0.009778   \n",
       "775  17.618326 -0.846734 -121014.677700   65.206269  166.671795  0.007501   \n",
       "776  31.300191 -1.429273  538316.195000   79.541005  166.669880  0.008908   \n",
       "777  15.063619 -1.237079   11171.028120   71.782639  166.680681  0.004207   \n",
       "778  24.440656 -1.234916  -49341.290460   85.595079  166.679850  0.001979   \n",
       "\n",
       "          VTI       SPI  \n",
       "0    0.039660  0.804977  \n",
       "1    0.092386  0.744562  \n",
       "2    0.083205  0.405923  \n",
       "3    0.079921  0.333582  \n",
       "4    0.046155  0.481075  \n",
       "..        ...       ...  \n",
       "774  0.088910  0.595077  \n",
       "775  0.116289  0.424437  \n",
       "776  0.175997  0.386682  \n",
       "777  0.069710  0.603865  \n",
       "778  0.036744  0.790494  \n",
       "\n",
       "[779 rows x 13 columns]"
      ]
     },
     "execution_count": 17,
     "metadata": {},
     "output_type": "execute_result"
    }
   ],
   "source": [
    "X"
   ]
  },
  {
   "cell_type": "code",
   "execution_count": 18,
   "id": "bc438b72",
   "metadata": {},
   "outputs": [],
   "source": [
    "X_train, X_test, y_train, y_test = train_test_split( X, Y, test_size=0.2, random_state=42)"
   ]
  },
  {
   "cell_type": "code",
   "execution_count": 19,
   "id": "df8da9d0",
   "metadata": {},
   "outputs": [],
   "source": [
    "gnb = GaussianNB()"
   ]
  },
  {
   "cell_type": "code",
   "execution_count": 20,
   "id": "e266e1f0",
   "metadata": {},
   "outputs": [
    {
     "data": {
      "text/html": [
       "<style>#sk-container-id-1 {color: black;background-color: white;}#sk-container-id-1 pre{padding: 0;}#sk-container-id-1 div.sk-toggleable {background-color: white;}#sk-container-id-1 label.sk-toggleable__label {cursor: pointer;display: block;width: 100%;margin-bottom: 0;padding: 0.3em;box-sizing: border-box;text-align: center;}#sk-container-id-1 label.sk-toggleable__label-arrow:before {content: \"▸\";float: left;margin-right: 0.25em;color: #696969;}#sk-container-id-1 label.sk-toggleable__label-arrow:hover:before {color: black;}#sk-container-id-1 div.sk-estimator:hover label.sk-toggleable__label-arrow:before {color: black;}#sk-container-id-1 div.sk-toggleable__content {max-height: 0;max-width: 0;overflow: hidden;text-align: left;background-color: #f0f8ff;}#sk-container-id-1 div.sk-toggleable__content pre {margin: 0.2em;color: black;border-radius: 0.25em;background-color: #f0f8ff;}#sk-container-id-1 input.sk-toggleable__control:checked~div.sk-toggleable__content {max-height: 200px;max-width: 100%;overflow: auto;}#sk-container-id-1 input.sk-toggleable__control:checked~label.sk-toggleable__label-arrow:before {content: \"▾\";}#sk-container-id-1 div.sk-estimator input.sk-toggleable__control:checked~label.sk-toggleable__label {background-color: #d4ebff;}#sk-container-id-1 div.sk-label input.sk-toggleable__control:checked~label.sk-toggleable__label {background-color: #d4ebff;}#sk-container-id-1 input.sk-hidden--visually {border: 0;clip: rect(1px 1px 1px 1px);clip: rect(1px, 1px, 1px, 1px);height: 1px;margin: -1px;overflow: hidden;padding: 0;position: absolute;width: 1px;}#sk-container-id-1 div.sk-estimator {font-family: monospace;background-color: #f0f8ff;border: 1px dotted black;border-radius: 0.25em;box-sizing: border-box;margin-bottom: 0.5em;}#sk-container-id-1 div.sk-estimator:hover {background-color: #d4ebff;}#sk-container-id-1 div.sk-parallel-item::after {content: \"\";width: 100%;border-bottom: 1px solid gray;flex-grow: 1;}#sk-container-id-1 div.sk-label:hover label.sk-toggleable__label {background-color: #d4ebff;}#sk-container-id-1 div.sk-serial::before {content: \"\";position: absolute;border-left: 1px solid gray;box-sizing: border-box;top: 0;bottom: 0;left: 50%;z-index: 0;}#sk-container-id-1 div.sk-serial {display: flex;flex-direction: column;align-items: center;background-color: white;padding-right: 0.2em;padding-left: 0.2em;position: relative;}#sk-container-id-1 div.sk-item {position: relative;z-index: 1;}#sk-container-id-1 div.sk-parallel {display: flex;align-items: stretch;justify-content: center;background-color: white;position: relative;}#sk-container-id-1 div.sk-item::before, #sk-container-id-1 div.sk-parallel-item::before {content: \"\";position: absolute;border-left: 1px solid gray;box-sizing: border-box;top: 0;bottom: 0;left: 50%;z-index: -1;}#sk-container-id-1 div.sk-parallel-item {display: flex;flex-direction: column;z-index: 1;position: relative;background-color: white;}#sk-container-id-1 div.sk-parallel-item:first-child::after {align-self: flex-end;width: 50%;}#sk-container-id-1 div.sk-parallel-item:last-child::after {align-self: flex-start;width: 50%;}#sk-container-id-1 div.sk-parallel-item:only-child::after {width: 0;}#sk-container-id-1 div.sk-dashed-wrapped {border: 1px dashed gray;margin: 0 0.4em 0.5em 0.4em;box-sizing: border-box;padding-bottom: 0.4em;background-color: white;}#sk-container-id-1 div.sk-label label {font-family: monospace;font-weight: bold;display: inline-block;line-height: 1.2em;}#sk-container-id-1 div.sk-label-container {text-align: center;}#sk-container-id-1 div.sk-container {/* jupyter's `normalize.less` sets `[hidden] { display: none; }` but bootstrap.min.css set `[hidden] { display: none !important; }` so we also need the `!important` here to be able to override the default hidden behavior on the sphinx rendered scikit-learn.org. See: https://github.com/scikit-learn/scikit-learn/issues/21755 */display: inline-block !important;position: relative;}#sk-container-id-1 div.sk-text-repr-fallback {display: none;}</style><div id=\"sk-container-id-1\" class=\"sk-top-container\"><div class=\"sk-text-repr-fallback\"><pre>GaussianNB()</pre><b>In a Jupyter environment, please rerun this cell to show the HTML representation or trust the notebook. <br />On GitHub, the HTML representation is unable to render, please try loading this page with nbviewer.org.</b></div><div class=\"sk-container\" hidden><div class=\"sk-item\"><div class=\"sk-estimator sk-toggleable\"><input class=\"sk-toggleable__control sk-hidden--visually\" id=\"sk-estimator-id-1\" type=\"checkbox\" checked><label for=\"sk-estimator-id-1\" class=\"sk-toggleable__label sk-toggleable__label-arrow\">GaussianNB</label><div class=\"sk-toggleable__content\"><pre>GaussianNB()</pre></div></div></div></div></div>"
      ],
      "text/plain": [
       "GaussianNB()"
      ]
     },
     "execution_count": 20,
     "metadata": {},
     "output_type": "execute_result"
    }
   ],
   "source": [
    "gnb.fit(X_train, y_train)"
   ]
  },
  {
   "cell_type": "code",
   "execution_count": 21,
   "id": "ce8a9d4f",
   "metadata": {},
   "outputs": [],
   "source": [
    "y_pred = gnb.predict(X_test)"
   ]
  },
  {
   "cell_type": "code",
   "execution_count": null,
   "id": "59ff04ff",
   "metadata": {},
   "outputs": [],
   "source": []
  },
  {
   "cell_type": "code",
   "execution_count": 22,
   "id": "fb1de8f5",
   "metadata": {},
   "outputs": [
    {
     "name": "stderr",
     "output_type": "stream",
     "text": [
      "C:\\Users\\Rohit\\anaconda3\\lib\\site-packages\\sklearn\\metrics\\_classification.py:1344: UndefinedMetricWarning: Precision and F-score are ill-defined and being set to 0.0 in labels with no predicted samples. Use `zero_division` parameter to control this behavior.\n",
      "  _warn_prf(average, modifier, msg_start, len(result))\n",
      "C:\\Users\\Rohit\\anaconda3\\lib\\site-packages\\sklearn\\metrics\\_classification.py:1344: UndefinedMetricWarning: Precision and F-score are ill-defined and being set to 0.0 in labels with no predicted samples. Use `zero_division` parameter to control this behavior.\n",
      "  _warn_prf(average, modifier, msg_start, len(result))\n",
      "C:\\Users\\Rohit\\anaconda3\\lib\\site-packages\\sklearn\\metrics\\_classification.py:1344: UndefinedMetricWarning: Precision and F-score are ill-defined and being set to 0.0 in labels with no predicted samples. Use `zero_division` parameter to control this behavior.\n",
      "  _warn_prf(average, modifier, msg_start, len(result))\n"
     ]
    }
   ],
   "source": [
    "# Generate a classification report\n",
    "report = classification_report(y_test, y_pred)"
   ]
  },
  {
   "cell_type": "code",
   "execution_count": 23,
   "id": "6c78f7d4",
   "metadata": {},
   "outputs": [
    {
     "name": "stdout",
     "output_type": "stream",
     "text": [
      "Classification Report for Gaussian Naive Bayes Model\n",
      "\n",
      "              precision    recall  f1-score   support\n",
      "\n",
      "           0       0.00      0.00      0.00        25\n",
      "           1       0.84      1.00      0.91       131\n",
      "\n",
      "    accuracy                           0.84       156\n",
      "   macro avg       0.42      0.50      0.46       156\n",
      "weighted avg       0.71      0.84      0.77       156\n",
      "\n"
     ]
    },
    {
     "name": "stderr",
     "output_type": "stream",
     "text": [
      "C:\\Users\\Rohit\\anaconda3\\lib\\site-packages\\sklearn\\metrics\\_classification.py:1344: UndefinedMetricWarning: Precision and F-score are ill-defined and being set to 0.0 in labels with no predicted samples. Use `zero_division` parameter to control this behavior.\n",
      "  _warn_prf(average, modifier, msg_start, len(result))\n",
      "C:\\Users\\Rohit\\anaconda3\\lib\\site-packages\\sklearn\\metrics\\_classification.py:1344: UndefinedMetricWarning: Precision and F-score are ill-defined and being set to 0.0 in labels with no predicted samples. Use `zero_division` parameter to control this behavior.\n",
      "  _warn_prf(average, modifier, msg_start, len(result))\n",
      "C:\\Users\\Rohit\\anaconda3\\lib\\site-packages\\sklearn\\metrics\\_classification.py:1344: UndefinedMetricWarning: Precision and F-score are ill-defined and being set to 0.0 in labels with no predicted samples. Use `zero_division` parameter to control this behavior.\n",
      "  _warn_prf(average, modifier, msg_start, len(result))\n"
     ]
    }
   ],
   "source": [
    "# Generate a classification report\n",
    "report = classification_report(y_test, y_pred)\n",
    "print(\"Classification Report for Gaussian Naive Bayes Model\")\n",
    "print()\n",
    "print(report)"
   ]
  },
  {
   "cell_type": "code",
   "execution_count": 24,
   "id": "aa3fc8d1",
   "metadata": {},
   "outputs": [
    {
     "name": "stdout",
     "output_type": "stream",
     "text": [
      "ACCURACY OF THE MODEL:  83.97435897435898\n"
     ]
    }
   ],
   "source": [
    "accuracy = accuracy_score(y_test, y_pred)\n",
    "cm = confusion_matrix(y_test, y_pred)\n",
    "print(\"ACCURACY OF THE MODEL: \", accuracy*100)"
   ]
  },
  {
   "cell_type": "code",
   "execution_count": 25,
   "id": "229915ee",
   "metadata": {},
   "outputs": [
    {
     "data": {
      "image/png": "[encoded data removed]",
      "text/plain": [
       "<Figure size 2600x1200 with 2 Axes>"
      ]
     },
     "metadata": {},
     "output_type": "display_data"
    }
   ],
   "source": [
    "fig = plt.subplots(figsize=(26, 12));\n",
    "sns.heatmap(cm, cmap = \"PuOr\",annot = True, fmt='.1f',\n",
    "            linewidths=0.2, linecolor = 'black',annot_kws={\"size\":20}, );\n",
    "\n",
    "plt.yticks(rotation=0, size=25)\n",
    "plt.xticks(rotation=90,size=25)\n",
    "plt.show()"
   ]
  },
  {
   "cell_type": "code",
   "execution_count": 26,
   "id": "9b68787d",
   "metadata": {},
   "outputs": [],
   "source": [
    "sc_x = StandardScaler()\n",
    "x_train = sc_x.fit_transform(X_train);\n",
    "x_test = sc_x.transform(X_test);"
   ]
  },
  {
   "cell_type": "code",
   "execution_count": 27,
   "id": "48749563",
   "metadata": {},
   "outputs": [],
   "source": [
    "accuracy_scores = [];\n",
    "for i in range(1,20):\n",
    "    classifier = KNeighborsClassifier(n_neighbors = i , p = 2 , metric = 'euclidean')\n",
    "    classifier.fit(X_train, y_train)\n",
    "    y_pred = classifier.predict(X_test)\n",
    "    accuracy_scores.append(accuracy_score(y_test, y_pred))"
   ]
  },
  {
   "cell_type": "code",
   "execution_count": 28,
   "id": "9acfa3c9",
   "metadata": {},
   "outputs": [],
   "source": [
    "classifier = KNeighborsClassifier(n_neighbors = 16 , p = 2 , metric = 'euclidean')\n",
    "classifier.fit(X_train, y_train)\n",
    "y_pred = classifier.predict(X_test)"
   ]
  },
  {
   "cell_type": "code",
   "execution_count": 29,
   "id": "59a6fb43",
   "metadata": {},
   "outputs": [
    {
     "name": "stdout",
     "output_type": "stream",
     "text": [
      "Classification Report for KNN Model\n",
      "\n",
      "              precision    recall  f1-score   support\n",
      "\n",
      "           0       0.00      0.00      0.00        25\n",
      "           1       0.84      1.00      0.91       131\n",
      "\n",
      "    accuracy                           0.84       156\n",
      "   macro avg       0.42      0.50      0.46       156\n",
      "weighted avg       0.71      0.84      0.77       156\n",
      "\n"
     ]
    },
    {
     "name": "stderr",
     "output_type": "stream",
     "text": [
      "C:\\Users\\Rohit\\anaconda3\\lib\\site-packages\\sklearn\\metrics\\_classification.py:1344: UndefinedMetricWarning: Precision and F-score are ill-defined and being set to 0.0 in labels with no predicted samples. Use `zero_division` parameter to control this behavior.\n",
      "  _warn_prf(average, modifier, msg_start, len(result))\n",
      "C:\\Users\\Rohit\\anaconda3\\lib\\site-packages\\sklearn\\metrics\\_classification.py:1344: UndefinedMetricWarning: Precision and F-score are ill-defined and being set to 0.0 in labels with no predicted samples. Use `zero_division` parameter to control this behavior.\n",
      "  _warn_prf(average, modifier, msg_start, len(result))\n",
      "C:\\Users\\Rohit\\anaconda3\\lib\\site-packages\\sklearn\\metrics\\_classification.py:1344: UndefinedMetricWarning: Precision and F-score are ill-defined and being set to 0.0 in labels with no predicted samples. Use `zero_division` parameter to control this behavior.\n",
      "  _warn_prf(average, modifier, msg_start, len(result))\n"
     ]
    }
   ],
   "source": [
    "# Generate a classification report\n",
    "report = classification_report(y_test, y_pred)\n",
    "print(\"Classification Report for KNN Model\")\n",
    "print()\n",
    "print(report)"
   ]
  },
  {
   "cell_type": "code",
   "execution_count": 30,
   "id": "96a55d71",
   "metadata": {},
   "outputs": [
    {
     "data": {
      "image/png": "[encoded data removed]",
      "text/plain": [
       "<Figure size 1500x600 with 1 Axes>"
      ]
     },
     "metadata": {},
     "output_type": "display_data"
    }
   ],
   "source": [
    "plt.figure(figsize=(15,6))\n",
    "plt.plot(range(1,20),accuracy_scores,color='blue', linestyle='dashed', marker='o',\n",
    "         markerfacecolor='red', markersize=10)\n",
    "plt.title('Accuracy vs. K Value')\n",
    "plt.xlabel('K')\n",
    "plt.ylabel('Accuracy')\n",
    "plt.grid()"
   ]
  },
  {
   "cell_type": "code",
   "execution_count": 31,
   "id": "f04dcc6f",
   "metadata": {},
   "outputs": [
    {
     "name": "stdout",
     "output_type": "stream",
     "text": [
      "Optimum value of K = 16\n",
      "Accuracy for the data 83.97435897435898\n"
     ]
    }
   ],
   "source": [
    "values_of_K = [];\n",
    "max_value = np.max(accuracy_scores);\n",
    "\n",
    "for j in range(len(accuracy_scores)):\n",
    "    if accuracy_scores[j] == max_value:\n",
    "        values_of_K.append(j);\n",
    "print(\"Optimum value of K =\",values_of_K[0]+2);\n",
    "print(\"Accuracy for the data\",max_value*100);"
   ]
  },
  {
   "cell_type": "code",
   "execution_count": 32,
   "id": "e8c2b31e",
   "metadata": {},
   "outputs": [],
   "source": [
    "clf = RandomForestClassifier(n_estimators = 100)"
   ]
  },
  {
   "cell_type": "code",
   "execution_count": 33,
   "id": "3a2092a2",
   "metadata": {},
   "outputs": [
    {
     "data": {
      "text/html": [
       "<style>#sk-container-id-2 {color: black;background-color: white;}#sk-container-id-2 pre{padding: 0;}#sk-container-id-2 div.sk-toggleable {background-color: white;}#sk-container-id-2 label.sk-toggleable__label {cursor: pointer;display: block;width: 100%;margin-bottom: 0;padding: 0.3em;box-sizing: border-box;text-align: center;}#sk-container-id-2 label.sk-toggleable__label-arrow:before {content: \"▸\";float: left;margin-right: 0.25em;color: #696969;}#sk-container-id-2 label.sk-toggleable__label-arrow:hover:before {color: black;}#sk-container-id-2 div.sk-estimator:hover label.sk-toggleable__label-arrow:before {color: black;}#sk-container-id-2 div.sk-toggleable__content {max-height: 0;max-width: 0;overflow: hidden;text-align: left;background-color: #f0f8ff;}#sk-container-id-2 div.sk-toggleable__content pre {margin: 0.2em;color: black;border-radius: 0.25em;background-color: #f0f8ff;}#sk-container-id-2 input.sk-toggleable__control:checked~div.sk-toggleable__content {max-height: 200px;max-width: 100%;overflow: auto;}#sk-container-id-2 input.sk-toggleable__control:checked~label.sk-toggleable__label-arrow:before {content: \"▾\";}#sk-container-id-2 div.sk-estimator input.sk-toggleable__control:checked~label.sk-toggleable__label {background-color: #d4ebff;}#sk-container-id-2 div.sk-label input.sk-toggleable__control:checked~label.sk-toggleable__label {background-color: #d4ebff;}#sk-container-id-2 input.sk-hidden--visually {border: 0;clip: rect(1px 1px 1px 1px);clip: rect(1px, 1px, 1px, 1px);height: 1px;margin: -1px;overflow: hidden;padding: 0;position: absolute;width: 1px;}#sk-container-id-2 div.sk-estimator {font-family: monospace;background-color: #f0f8ff;border: 1px dotted black;border-radius: 0.25em;box-sizing: border-box;margin-bottom: 0.5em;}#sk-container-id-2 div.sk-estimator:hover {background-color: #d4ebff;}#sk-container-id-2 div.sk-parallel-item::after {content: \"\";width: 100%;border-bottom: 1px solid gray;flex-grow: 1;}#sk-container-id-2 div.sk-label:hover label.sk-toggleable__label {background-color: #d4ebff;}#sk-container-id-2 div.sk-serial::before {content: \"\";position: absolute;border-left: 1px solid gray;box-sizing: border-box;top: 0;bottom: 0;left: 50%;z-index: 0;}#sk-container-id-2 div.sk-serial {display: flex;flex-direction: column;align-items: center;background-color: white;padding-right: 0.2em;padding-left: 0.2em;position: relative;}#sk-container-id-2 div.sk-item {position: relative;z-index: 1;}#sk-container-id-2 div.sk-parallel {display: flex;align-items: stretch;justify-content: center;background-color: white;position: relative;}#sk-container-id-2 div.sk-item::before, #sk-container-id-2 div.sk-parallel-item::before {content: \"\";position: absolute;border-left: 1px solid gray;box-sizing: border-box;top: 0;bottom: 0;left: 50%;z-index: -1;}#sk-container-id-2 div.sk-parallel-item {display: flex;flex-direction: column;z-index: 1;position: relative;background-color: white;}#sk-container-id-2 div.sk-parallel-item:first-child::after {align-self: flex-end;width: 50%;}#sk-container-id-2 div.sk-parallel-item:last-child::after {align-self: flex-start;width: 50%;}#sk-container-id-2 div.sk-parallel-item:only-child::after {width: 0;}#sk-container-id-2 div.sk-dashed-wrapped {border: 1px dashed gray;margin: 0 0.4em 0.5em 0.4em;box-sizing: border-box;padding-bottom: 0.4em;background-color: white;}#sk-container-id-2 div.sk-label label {font-family: monospace;font-weight: bold;display: inline-block;line-height: 1.2em;}#sk-container-id-2 div.sk-label-container {text-align: center;}#sk-container-id-2 div.sk-container {/* jupyter's `normalize.less` sets `[hidden] { display: none; }` but bootstrap.min.css set `[hidden] { display: none !important; }` so we also need the `!important` here to be able to override the default hidden behavior on the sphinx rendered scikit-learn.org. See: https://github.com/scikit-learn/scikit-learn/issues/21755 */display: inline-block !important;position: relative;}#sk-container-id-2 div.sk-text-repr-fallback {display: none;}</style><div id=\"sk-container-id-2\" class=\"sk-top-container\"><div class=\"sk-text-repr-fallback\"><pre>RandomForestClassifier()</pre><b>In a Jupyter environment, please rerun this cell to show the HTML representation or trust the notebook. <br />On GitHub, the HTML representation is unable to render, please try loading this page with nbviewer.org.</b></div><div class=\"sk-container\" hidden><div class=\"sk-item\"><div class=\"sk-estimator sk-toggleable\"><input class=\"sk-toggleable__control sk-hidden--visually\" id=\"sk-estimator-id-2\" type=\"checkbox\" checked><label for=\"sk-estimator-id-2\" class=\"sk-toggleable__label sk-toggleable__label-arrow\">RandomForestClassifier</label><div class=\"sk-toggleable__content\"><pre>RandomForestClassifier()</pre></div></div></div></div></div>"
      ],
      "text/plain": [
       "RandomForestClassifier()"
      ]
     },
     "execution_count": 33,
     "metadata": {},
     "output_type": "execute_result"
    }
   ],
   "source": [
    "clf.fit(X_train, y_train)"
   ]
  },
  {
   "cell_type": "code",
   "execution_count": 34,
   "id": "22f6f7d4",
   "metadata": {},
   "outputs": [],
   "source": [
    "y_pred = clf.predict(X_test)"
   ]
  },
  {
   "cell_type": "code",
   "execution_count": 35,
   "id": "6b107304",
   "metadata": {},
   "outputs": [
    {
     "name": "stdout",
     "output_type": "stream",
     "text": [
      "Classification Report for Random Forest Model\n",
      "\n",
      "              precision    recall  f1-score   support\n",
      "\n",
      "           0       0.00      0.00      0.00        25\n",
      "           1       0.84      1.00      0.91       131\n",
      "\n",
      "    accuracy                           0.84       156\n",
      "   macro avg       0.42      0.50      0.46       156\n",
      "weighted avg       0.71      0.84      0.77       156\n",
      "\n"
     ]
    },
    {
     "name": "stderr",
     "output_type": "stream",
     "text": [
      "C:\\Users\\Rohit\\anaconda3\\lib\\site-packages\\sklearn\\metrics\\_classification.py:1344: UndefinedMetricWarning: Precision and F-score are ill-defined and being set to 0.0 in labels with no predicted samples. Use `zero_division` parameter to control this behavior.\n",
      "  _warn_prf(average, modifier, msg_start, len(result))\n",
      "C:\\Users\\Rohit\\anaconda3\\lib\\site-packages\\sklearn\\metrics\\_classification.py:1344: UndefinedMetricWarning: Precision and F-score are ill-defined and being set to 0.0 in labels with no predicted samples. Use `zero_division` parameter to control this behavior.\n",
      "  _warn_prf(average, modifier, msg_start, len(result))\n",
      "C:\\Users\\Rohit\\anaconda3\\lib\\site-packages\\sklearn\\metrics\\_classification.py:1344: UndefinedMetricWarning: Precision and F-score are ill-defined and being set to 0.0 in labels with no predicted samples. Use `zero_division` parameter to control this behavior.\n",
      "  _warn_prf(average, modifier, msg_start, len(result))\n"
     ]
    }
   ],
   "source": [
    "# Generate a classification report\n",
    "report = classification_report(y_test, y_pred)\n",
    "print(\"Classification Report for Random Forest Model\")\n",
    "print()\n",
    "print(report)"
   ]
  },
  {
   "cell_type": "code",
   "execution_count": 36,
   "id": "fa21d715",
   "metadata": {},
   "outputs": [
    {
     "name": "stdout",
     "output_type": "stream",
     "text": [
      "ACCURACY OF THE MODEL:  83.97435897435898\n"
     ]
    }
   ],
   "source": [
    "accuracy = accuracy_score(y_test, y_pred)\n",
    "cm = confusion_matrix(y_test, y_pred)\n",
    "print(\"ACCURACY OF THE MODEL: \", accuracy*100)"
   ]
  },
  {
   "cell_type": "code",
   "execution_count": 37,
   "id": "025cae86",
   "metadata": {},
   "outputs": [
    {
     "data": {
      "image/png": "[encoded data removed]",
      "text/plain": [
       "<Figure size 2600x1200 with 2 Axes>"
      ]
     },
     "metadata": {},
     "output_type": "display_data"
    }
   ],
   "source": [
    "fig = plt.subplots(figsize=(26, 12));\n",
    "sns.heatmap(cm, cmap = \"PuOr\",annot = True, fmt='.1f',\n",
    "            linewidths=0.2, linecolor = 'black',annot_kws={\"size\":20}, );\n",
    "\n",
    "plt.yticks(rotation=0, size=25)\n",
    "plt.xticks(rotation=90,size=25)\n",
    "plt.show()"
   ]
  },
  {
   "cell_type": "code",
   "execution_count": 38,
   "id": "a4b58d78",
   "metadata": {},
   "outputs": [],
   "source": [
    "sc_x = StandardScaler()\n",
    "x_train = sc_x.fit_transform(X_train);\n",
    "x_test = sc_x.transform(X_test);"
   ]
  },
  {
   "cell_type": "code",
   "execution_count": 39,
   "id": "4c62ddf9",
   "metadata": {},
   "outputs": [],
   "source": [
    "# Fitting Model\n",
    "lin = svm.SVC(kernel='linear', C=5.0)"
   ]
  },
  {
   "cell_type": "code",
   "execution_count": 40,
   "id": "302f4997",
   "metadata": {},
   "outputs": [
    {
     "data": {
      "text/html": [
       "<style>#sk-container-id-3 {color: black;background-color: white;}#sk-container-id-3 pre{padding: 0;}#sk-container-id-3 div.sk-toggleable {background-color: white;}#sk-container-id-3 label.sk-toggleable__label {cursor: pointer;display: block;width: 100%;margin-bottom: 0;padding: 0.3em;box-sizing: border-box;text-align: center;}#sk-container-id-3 label.sk-toggleable__label-arrow:before {content: \"▸\";float: left;margin-right: 0.25em;color: #696969;}#sk-container-id-3 label.sk-toggleable__label-arrow:hover:before {color: black;}#sk-container-id-3 div.sk-estimator:hover label.sk-toggleable__label-arrow:before {color: black;}#sk-container-id-3 div.sk-toggleable__content {max-height: 0;max-width: 0;overflow: hidden;text-align: left;background-color: #f0f8ff;}#sk-container-id-3 div.sk-toggleable__content pre {margin: 0.2em;color: black;border-radius: 0.25em;background-color: #f0f8ff;}#sk-container-id-3 input.sk-toggleable__control:checked~div.sk-toggleable__content {max-height: 200px;max-width: 100%;overflow: auto;}#sk-container-id-3 input.sk-toggleable__control:checked~label.sk-toggleable__label-arrow:before {content: \"▾\";}#sk-container-id-3 div.sk-estimator input.sk-toggleable__control:checked~label.sk-toggleable__label {background-color: #d4ebff;}#sk-container-id-3 div.sk-label input.sk-toggleable__control:checked~label.sk-toggleable__label {background-color: #d4ebff;}#sk-container-id-3 input.sk-hidden--visually {border: 0;clip: rect(1px 1px 1px 1px);clip: rect(1px, 1px, 1px, 1px);height: 1px;margin: -1px;overflow: hidden;padding: 0;position: absolute;width: 1px;}#sk-container-id-3 div.sk-estimator {font-family: monospace;background-color: #f0f8ff;border: 1px dotted black;border-radius: 0.25em;box-sizing: border-box;margin-bottom: 0.5em;}#sk-container-id-3 div.sk-estimator:hover {background-color: #d4ebff;}#sk-container-id-3 div.sk-parallel-item::after {content: \"\";width: 100%;border-bottom: 1px solid gray;flex-grow: 1;}#sk-container-id-3 div.sk-label:hover label.sk-toggleable__label {background-color: #d4ebff;}#sk-container-id-3 div.sk-serial::before {content: \"\";position: absolute;border-left: 1px solid gray;box-sizing: border-box;top: 0;bottom: 0;left: 50%;z-index: 0;}#sk-container-id-3 div.sk-serial {display: flex;flex-direction: column;align-items: center;background-color: white;padding-right: 0.2em;padding-left: 0.2em;position: relative;}#sk-container-id-3 div.sk-item {position: relative;z-index: 1;}#sk-container-id-3 div.sk-parallel {display: flex;align-items: stretch;justify-content: center;background-color: white;position: relative;}#sk-container-id-3 div.sk-item::before, #sk-container-id-3 div.sk-parallel-item::before {content: \"\";position: absolute;border-left: 1px solid gray;box-sizing: border-box;top: 0;bottom: 0;left: 50%;z-index: -1;}#sk-container-id-3 div.sk-parallel-item {display: flex;flex-direction: column;z-index: 1;position: relative;background-color: white;}#sk-container-id-3 div.sk-parallel-item:first-child::after {align-self: flex-end;width: 50%;}#sk-container-id-3 div.sk-parallel-item:last-child::after {align-self: flex-start;width: 50%;}#sk-container-id-3 div.sk-parallel-item:only-child::after {width: 0;}#sk-container-id-3 div.sk-dashed-wrapped {border: 1px dashed gray;margin: 0 0.4em 0.5em 0.4em;box-sizing: border-box;padding-bottom: 0.4em;background-color: white;}#sk-container-id-3 div.sk-label label {font-family: monospace;font-weight: bold;display: inline-block;line-height: 1.2em;}#sk-container-id-3 div.sk-label-container {text-align: center;}#sk-container-id-3 div.sk-container {/* jupyter's `normalize.less` sets `[hidden] { display: none; }` but bootstrap.min.css set `[hidden] { display: none !important; }` so we also need the `!important` here to be able to override the default hidden behavior on the sphinx rendered scikit-learn.org. See: https://github.com/scikit-learn/scikit-learn/issues/21755 */display: inline-block !important;position: relative;}#sk-container-id-3 div.sk-text-repr-fallback {display: none;}</style><div id=\"sk-container-id-3\" class=\"sk-top-container\"><div class=\"sk-text-repr-fallback\"><pre>SVC(C=5.0, kernel=&#x27;linear&#x27;)</pre><b>In a Jupyter environment, please rerun this cell to show the HTML representation or trust the notebook. <br />On GitHub, the HTML representation is unable to render, please try loading this page with nbviewer.org.</b></div><div class=\"sk-container\" hidden><div class=\"sk-item\"><div class=\"sk-estimator sk-toggleable\"><input class=\"sk-toggleable__control sk-hidden--visually\" id=\"sk-estimator-id-3\" type=\"checkbox\" checked><label for=\"sk-estimator-id-3\" class=\"sk-toggleable__label sk-toggleable__label-arrow\">SVC</label><div class=\"sk-toggleable__content\"><pre>SVC(C=5.0, kernel=&#x27;linear&#x27;)</pre></div></div></div></div></div>"
      ],
      "text/plain": [
       "SVC(C=5.0, kernel='linear')"
      ]
     },
     "execution_count": 40,
     "metadata": {},
     "output_type": "execute_result"
    }
   ],
   "source": [
    "lin.fit(x_train, y_train)"
   ]
  },
  {
   "cell_type": "code",
   "execution_count": 41,
   "id": "a11d803e",
   "metadata": {},
   "outputs": [],
   "source": [
    "# Predictions\n",
    "lin_pred = lin.predict(x_test)"
   ]
  },
  {
   "cell_type": "code",
   "execution_count": 42,
   "id": "a91f1efe",
   "metadata": {},
   "outputs": [
    {
     "name": "stdout",
     "output_type": "stream",
     "text": [
      "Classification Report for SVM Model (linear)\n",
      "\n",
      "              precision    recall  f1-score   support\n",
      "\n",
      "           0       0.00      0.00      0.00        25\n",
      "           1       0.84      1.00      0.91       131\n",
      "\n",
      "    accuracy                           0.84       156\n",
      "   macro avg       0.42      0.50      0.46       156\n",
      "weighted avg       0.71      0.84      0.77       156\n",
      "\n"
     ]
    },
    {
     "name": "stderr",
     "output_type": "stream",
     "text": [
      "C:\\Users\\Rohit\\anaconda3\\lib\\site-packages\\sklearn\\metrics\\_classification.py:1344: UndefinedMetricWarning: Precision and F-score are ill-defined and being set to 0.0 in labels with no predicted samples. Use `zero_division` parameter to control this behavior.\n",
      "  _warn_prf(average, modifier, msg_start, len(result))\n",
      "C:\\Users\\Rohit\\anaconda3\\lib\\site-packages\\sklearn\\metrics\\_classification.py:1344: UndefinedMetricWarning: Precision and F-score are ill-defined and being set to 0.0 in labels with no predicted samples. Use `zero_division` parameter to control this behavior.\n",
      "  _warn_prf(average, modifier, msg_start, len(result))\n",
      "C:\\Users\\Rohit\\anaconda3\\lib\\site-packages\\sklearn\\metrics\\_classification.py:1344: UndefinedMetricWarning: Precision and F-score are ill-defined and being set to 0.0 in labels with no predicted samples. Use `zero_division` parameter to control this behavior.\n",
      "  _warn_prf(average, modifier, msg_start, len(result))\n"
     ]
    }
   ],
   "source": [
    "# Generate a classification report\n",
    "report = classification_report(y_test, lin_pred)\n",
    "print(\"Classification Report for SVM Model (linear)\")\n",
    "print()\n",
    "print(report)"
   ]
  },
  {
   "cell_type": "code",
   "execution_count": 43,
   "id": "57f46dbb",
   "metadata": {},
   "outputs": [
    {
     "name": "stdout",
     "output_type": "stream",
     "text": [
      "Accuracy (linear Kernel):  83.97\n"
     ]
    }
   ],
   "source": [
    "# Checking Accuracy\n",
    "lin_accuracy = accuracy_score(y_test, lin_pred)\n",
    "lin_cm = confusion_matrix(y_test, lin_pred)\n",
    "print('Accuracy (linear Kernel): ', \"%.2f\" % (lin_accuracy*100))"
   ]
  },
  {
   "cell_type": "code",
   "execution_count": 44,
   "id": "0ae73057",
   "metadata": {},
   "outputs": [
    {
     "data": {
      "image/png": "[encoded data removed]",
      "text/plain": [
       "<Figure size 2600x1200 with 2 Axes>"
      ]
     },
     "metadata": {},
     "output_type": "display_data"
    }
   ],
   "source": [
    "fig = plt.subplots(figsize=(26, 12));\n",
    "sns.heatmap(lin_cm, cmap = \"PuOr\",annot = True, fmt='.1f',\n",
    "            linewidths=0.2, linecolor = 'black',annot_kws={\"size\":20}, );\n",
    "\n",
    "plt.yticks(rotation=0, size=25)\n",
    "plt.xticks(rotation=90,size=25)\n",
    "plt.show()"
   ]
  },
  {
   "cell_type": "code",
   "execution_count": 45,
   "id": "b4d264bd",
   "metadata": {},
   "outputs": [],
   "source": [
    "rbf = svm.SVC(kernel='rbf', random_state=1, gamma=0.5, C=2.0)"
   ]
  },
  {
   "cell_type": "code",
   "execution_count": 46,
   "id": "22dc93f7",
   "metadata": {},
   "outputs": [
    {
     "data": {
      "text/html": [
       "<style>#sk-container-id-4 {color: black;background-color: white;}#sk-container-id-4 pre{padding: 0;}#sk-container-id-4 div.sk-toggleable {background-color: white;}#sk-container-id-4 label.sk-toggleable__label {cursor: pointer;display: block;width: 100%;margin-bottom: 0;padding: 0.3em;box-sizing: border-box;text-align: center;}#sk-container-id-4 label.sk-toggleable__label-arrow:before {content: \"▸\";float: left;margin-right: 0.25em;color: #696969;}#sk-container-id-4 label.sk-toggleable__label-arrow:hover:before {color: black;}#sk-container-id-4 div.sk-estimator:hover label.sk-toggleable__label-arrow:before {color: black;}#sk-container-id-4 div.sk-toggleable__content {max-height: 0;max-width: 0;overflow: hidden;text-align: left;background-color: #f0f8ff;}#sk-container-id-4 div.sk-toggleable__content pre {margin: 0.2em;color: black;border-radius: 0.25em;background-color: #f0f8ff;}#sk-container-id-4 input.sk-toggleable__control:checked~div.sk-toggleable__content {max-height: 200px;max-width: 100%;overflow: auto;}#sk-container-id-4 input.sk-toggleable__control:checked~label.sk-toggleable__label-arrow:before {content: \"▾\";}#sk-container-id-4 div.sk-estimator input.sk-toggleable__control:checked~label.sk-toggleable__label {background-color: #d4ebff;}#sk-container-id-4 div.sk-label input.sk-toggleable__control:checked~label.sk-toggleable__label {background-color: #d4ebff;}#sk-container-id-4 input.sk-hidden--visually {border: 0;clip: rect(1px 1px 1px 1px);clip: rect(1px, 1px, 1px, 1px);height: 1px;margin: -1px;overflow: hidden;padding: 0;position: absolute;width: 1px;}#sk-container-id-4 div.sk-estimator {font-family: monospace;background-color: #f0f8ff;border: 1px dotted black;border-radius: 0.25em;box-sizing: border-box;margin-bottom: 0.5em;}#sk-container-id-4 div.sk-estimator:hover {background-color: #d4ebff;}#sk-container-id-4 div.sk-parallel-item::after {content: \"\";width: 100%;border-bottom: 1px solid gray;flex-grow: 1;}#sk-container-id-4 div.sk-label:hover label.sk-toggleable__label {background-color: #d4ebff;}#sk-container-id-4 div.sk-serial::before {content: \"\";position: absolute;border-left: 1px solid gray;box-sizing: border-box;top: 0;bottom: 0;left: 50%;z-index: 0;}#sk-container-id-4 div.sk-serial {display: flex;flex-direction: column;align-items: center;background-color: white;padding-right: 0.2em;padding-left: 0.2em;position: relative;}#sk-container-id-4 div.sk-item {position: relative;z-index: 1;}#sk-container-id-4 div.sk-parallel {display: flex;align-items: stretch;justify-content: center;background-color: white;position: relative;}#sk-container-id-4 div.sk-item::before, #sk-container-id-4 div.sk-parallel-item::before {content: \"\";position: absolute;border-left: 1px solid gray;box-sizing: border-box;top: 0;bottom: 0;left: 50%;z-index: -1;}#sk-container-id-4 div.sk-parallel-item {display: flex;flex-direction: column;z-index: 1;position: relative;background-color: white;}#sk-container-id-4 div.sk-parallel-item:first-child::after {align-self: flex-end;width: 50%;}#sk-container-id-4 div.sk-parallel-item:last-child::after {align-self: flex-start;width: 50%;}#sk-container-id-4 div.sk-parallel-item:only-child::after {width: 0;}#sk-container-id-4 div.sk-dashed-wrapped {border: 1px dashed gray;margin: 0 0.4em 0.5em 0.4em;box-sizing: border-box;padding-bottom: 0.4em;background-color: white;}#sk-container-id-4 div.sk-label label {font-family: monospace;font-weight: bold;display: inline-block;line-height: 1.2em;}#sk-container-id-4 div.sk-label-container {text-align: center;}#sk-container-id-4 div.sk-container {/* jupyter's `normalize.less` sets `[hidden] { display: none; }` but bootstrap.min.css set `[hidden] { display: none !important; }` so we also need the `!important` here to be able to override the default hidden behavior on the sphinx rendered scikit-learn.org. See: https://github.com/scikit-learn/scikit-learn/issues/21755 */display: inline-block !important;position: relative;}#sk-container-id-4 div.sk-text-repr-fallback {display: none;}</style><div id=\"sk-container-id-4\" class=\"sk-top-container\"><div class=\"sk-text-repr-fallback\"><pre>SVC(C=2.0, gamma=0.5, random_state=1)</pre><b>In a Jupyter environment, please rerun this cell to show the HTML representation or trust the notebook. <br />On GitHub, the HTML representation is unable to render, please try loading this page with nbviewer.org.</b></div><div class=\"sk-container\" hidden><div class=\"sk-item\"><div class=\"sk-estimator sk-toggleable\"><input class=\"sk-toggleable__control sk-hidden--visually\" id=\"sk-estimator-id-4\" type=\"checkbox\" checked><label for=\"sk-estimator-id-4\" class=\"sk-toggleable__label sk-toggleable__label-arrow\">SVC</label><div class=\"sk-toggleable__content\"><pre>SVC(C=2.0, gamma=0.5, random_state=1)</pre></div></div></div></div></div>"
      ],
      "text/plain": [
       "SVC(C=2.0, gamma=0.5, random_state=1)"
      ]
     },
     "execution_count": 46,
     "metadata": {},
     "output_type": "execute_result"
    }
   ],
   "source": [
    "rbf.fit(x_train, y_train)"
   ]
  },
  {
   "cell_type": "code",
   "execution_count": 47,
   "id": "c906bdb5",
   "metadata": {},
   "outputs": [],
   "source": [
    "# Predictions\n",
    "rbf_pred = rbf.predict(x_test)"
   ]
  },
  {
   "cell_type": "code",
   "execution_count": 48,
   "id": "888a3643",
   "metadata": {},
   "outputs": [
    {
     "name": "stdout",
     "output_type": "stream",
     "text": [
      "Classification Report for SVM Model (RBF)\n",
      "\n",
      "              precision    recall  f1-score   support\n",
      "\n",
      "           0       0.00      0.00      0.00        25\n",
      "           1       0.84      0.98      0.91       131\n",
      "\n",
      "    accuracy                           0.83       156\n",
      "   macro avg       0.42      0.49      0.45       156\n",
      "weighted avg       0.70      0.83      0.76       156\n",
      "\n"
     ]
    }
   ],
   "source": [
    "# Generate a classification report\n",
    "report = classification_report(y_test, rbf_pred)\n",
    "print(\"Classification Report for SVM Model (RBF)\")\n",
    "print()\n",
    "print(report)"
   ]
  },
  {
   "cell_type": "code",
   "execution_count": 49,
   "id": "2c841ecc",
   "metadata": {},
   "outputs": [
    {
     "name": "stdout",
     "output_type": "stream",
     "text": [
      "Accuracy (RBF Kernel):  82.69\n"
     ]
    }
   ],
   "source": [
    "# Checking Accuracy\n",
    "rbf_accuracy = accuracy_score(y_test, rbf_pred)\n",
    "rbf_cm = confusion_matrix(y_test, rbf_pred)\n",
    "print('Accuracy (RBF Kernel): ', \"%.2f\" % (rbf_accuracy*100))"
   ]
  },
  {
   "cell_type": "code",
   "execution_count": 50,
   "id": "5a3170f6",
   "metadata": {},
   "outputs": [
    {
     "data": {
      "image/png": "[encoded data removed]",
      "text/plain": [
       "<Figure size 2600x1200 with 2 Axes>"
      ]
     },
     "metadata": {},
     "output_type": "display_data"
    }
   ],
   "source": [
    "fig = plt.subplots(figsize=(26, 12));\n",
    "sns.heatmap(rbf_cm, cmap = \"PuOr\",annot = True, fmt='.1f',\n",
    "            linewidths=0.2, linecolor = 'black',annot_kws={\"size\":20}, );\n",
    "\n",
    "plt.yticks(rotation=0, size=25)\n",
    "plt.xticks(rotation=90,size=25)\n",
    "plt.show()"
   ]
  },
  {
   "cell_type": "code",
   "execution_count": null,
   "id": "47c30672",
   "metadata": {},
   "outputs": [],
   "source": [
    "import matplotlib.pyplot as plt\n",
    "\n",
    "# Define the data to be plotted\n",
    "x = [\"Naive Bayes\", \"KNN\", \"Random Forest\", \"SVM(linear)\", \"SVM(RBF)\"]\n",
    "y = [20, 35, 25, 40]\n",
    "\n",
    "# Create a bar chart\n",
    "plt.bar(x, y)\n",
    "\n",
    "# Add labels and title\n",
    "plt.xlabel(\"Categories\")\n",
    "plt.ylabel(\"Values\")\n",
    "plt.title(\"Bar Graph Example\")\n",
    "\n",
    "# Display the graph\n",
    "plt.show()"
   ]
  },
  {
   "cell_type": "code",
   "execution_count": 57,
   "id": "bdb70cfa",
   "metadata": {},
   "outputs": [
    {
     "data": {
      "image/png": "[encoded data removed]",
      "text/plain": [
       "<Figure size 640x480 with 1 Axes>"
      ]
     },
     "metadata": {},
     "output_type": "display_data"
    }
   ],
   "source": [
    "import matplotlib.pyplot as plt\n",
    "\n",
    "# Define the data to be plotted\n",
    "x = [\"Naive Bayes\", \"KNN\", \"Random Forest\", \"SVM(linear)\", \"SVM(RBF)\"]\n",
    "y1 = [84, 84, 84, 84, 83]\n",
    "y2 = [83.97, 83.97, 83.97, 83.97, 82.69]\n",
    "\n",
    "# Create a bar chart with two sets of data\n",
    "plt.bar(x, y1, color='b', width=0.2, align='center')\n",
    "plt.bar(x, y2, color='g', width=0.2, align='edge')\n",
    "\n",
    "# Add labels and title\n",
    "plt.xlabel(\"ML Models\")\n",
    "plt.ylabel(\"Percentage Accuracy\")\n",
    "plt.title(\"Training and Testing accuracy of different ML models\")\n",
    "\n",
    "# Add a legend\n",
    "plt.legend([\"Train\", \"Test\"])\n",
    "\n",
    "# Display the graph\n",
    "plt.show()"
   ]
  },
  {
   "cell_type": "code",
   "execution_count": 61,
   "id": "d46356b1",
   "metadata": {},
   "outputs": [
    {
     "data": {
      "image/png": "[encoded data removed]",
      "text/plain": [
       "<Figure size 1000x600 with 1 Axes>"
      ]
     },
     "metadata": {},
     "output_type": "display_data"
    }
   ],
   "source": [
    "import numpy as np\n",
    "import matplotlib.pyplot as plt\n",
    " \n",
    "# set width of bar\n",
    "barWidth = 0.25\n",
    "fig = plt.subplots(figsize =(10, 6))\n",
    " \n",
    "# set height of bar\n",
    "IT = [84, 84, 84, 84, 83]\n",
    "ECE = [83.97, 83.97, 83.97, 83.97, 82.69]\n",
    " \n",
    "# Set position of bar on X axis\n",
    "br1 = np.arange(len(IT))\n",
    "br2 = [x + barWidth for x in br1]\n",
    " \n",
    "# Make the plot\n",
    "plt.bar(br1, IT, color ='g', width = barWidth,\n",
    "        edgecolor ='black', label ='Train')\n",
    "plt.bar(br2, ECE, color ='b', width = barWidth,\n",
    "        edgecolor ='black', label ='Test')\n",
    " \n",
    "# Adding Xticks\n",
    "plt.xlabel('ML Models', fontweight ='bold', fontsize = 15)\n",
    "plt.ylabel('Percentage Accuracy', fontweight ='bold', fontsize = 15)\n",
    "plt.xticks([r + barWidth for r in range(len(IT))],\n",
    "        [\"Naive Bayes\", \"KNN\", \"Random Forest\", \"SVM(linear)\", \"SVM(RBF)\"])\n",
    "plt.title(\"Training and Testing accuracy of different ML models\", fontweight ='bold', fontsize = 15)\n",
    " \n",
    "plt.legend()\n",
    "plt.show()"
   ]
  },
  {
   "cell_type": "code",
   "execution_count": null,
   "id": "92231b4d",
   "metadata": {},
   "outputs": [],
   "source": []
  }
 ],
 "metadata": {
  "kernelspec": {
   "display_name": "Python 3 (ipykernel)",
   "language": "python",
   "name": "python3"
  },
  "language_info": {
   "codemirror_mode": {
    "name": "ipython",
    "version": 3
   },
   "file_extension": ".py",
   "mimetype": "text/x-python",
   "name": "python",
   "nbconvert_exporter": "python",
   "pygments_lexer": "ipython3",
   "version": "3.9.7"
  }
 },
 "nbformat": 4,
 "nbformat_minor": 5
}
